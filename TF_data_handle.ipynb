{
  "nbformat": 4,
  "nbformat_minor": 0,
  "metadata": {
    "colab": {
      "provenance": [],
      "authorship_tag": "ABX9TyMJNBLIMNsUr/YOuJYpwgRC",
      "include_colab_link": true
    },
    "kernelspec": {
      "name": "python3",
      "display_name": "Python 3"
    },
    "language_info": {
      "name": "python"
    }
  },
  "cells": [
    {
      "cell_type": "markdown",
      "metadata": {
        "id": "view-in-github",
        "colab_type": "text"
      },
      "source": [
        "<a href=\"https://colab.research.google.com/github/Kilvia/tf-data-handle/blob/main/TF_data_handle.ipynb\" target=\"_parent\"><img src=\"https://colab.research.google.com/assets/colab-badge.svg\" alt=\"Open In Colab\"/></a>"
      ]
    },
    {
      "cell_type": "markdown",
      "source": [
        " # TensorFlow Input Data Handling"
      ],
      "metadata": {
        "id": "H92jJ1efumHq"
      }
    },
    {
      "cell_type": "markdown",
      "source": [
        "Handling data well in data science is the basis of the basics. This is the same when learning Tensorflow.\n",
        "\n",
        "It is important to be well aware of techniques that can process data well and efficiently. In order to cultivate this ability, this practice will introduce Tensorflow's data-related APIs. There are several related APIs, but the practice will cover the API below.\n",
        "- Keras data API\n",
        "- Keras preprocess API\n",
        "- Tensorflow data API"
      ],
      "metadata": {
        "id": "5C8YZkF7ukww"
      }
    },
    {
      "cell_type": "code",
      "source": [
        "import tensorflow as tf\n",
        "import numpy as np\n",
        "import matplotlib.pyplot as plt\n",
        "import requests\n",
        "import ssl\n",
        "from sklearn import model_selection"
      ],
      "metadata": {
        "id": "v7mBpsbEu56D"
      },
      "execution_count": 5,
      "outputs": []
    },
    {
      "cell_type": "code",
      "source": [
        "requests.packages.urllib3.disable_warnings()"
      ],
      "metadata": {
        "id": "v_5bqEWNvI-6"
      },
      "execution_count": 2,
      "outputs": []
    },
    {
      "cell_type": "code",
      "source": [
        "try:\n",
        "  _create_unverified_https_context = ssl._create_default_https_context\n",
        "except AttributeError:\n",
        "  pass\n",
        "else:\n",
        "  ssl._create_default_https_context = _create_unverified_https_context"
      ],
      "metadata": {
        "id": "3W1d5t0IvPp0"
      },
      "execution_count": 3,
      "outputs": []
    },
    {
      "cell_type": "markdown",
      "source": [
        "### Keras dataset"
      ],
      "metadata": {
        "id": "RUM7M_pcvrlb"
      }
    },
    {
      "cell_type": "markdown",
      "source": [
        "Keras provides small datasets that are commonly used, and can be received as numpy arrays through load_data(). Some examples are:\n",
        "\n",
        "* boston_housing module: Boston housing price regression dataset.\n",
        "* cifar10 module: CIFAR10 small images classification dataset.\n",
        "* cifar100 module: CIFAR100 small images classification dataset.\n",
        "* fashion_mnist module: Fashion-MNIST dataset.\n",
        "* imdb module: IMDB sentiment classification dataset.\n",
        "* mnist module: MNIST handwritten digits dataset.\n",
        "* reuters module: Reuters topic classification dataset."
      ],
      "metadata": {
        "id": "g_PRpRCmwC71"
      }
    },
    {
      "cell_type": "code",
      "source": [
        "cifar10 = tf.keras.datasets.cifar10\n",
        "\n",
        "# Load Dataset\n",
        "(x_train, y_train), (x_test, y_test) = cifar10.load_data()\n",
        "\n",
        "# Split train set into train and valid\n",
        "x_train, x_valid, y_train, y_valid = model_selection.train_test_split(x_train, y_train, test_size=0.2)\n"
      ],
      "metadata": {
        "id": "BoO1AjrDwpbh"
      },
      "execution_count": 73,
      "outputs": []
    },
    {
      "cell_type": "markdown",
      "source": [
        "## Data preprocessing/augmentation using Keras layers\n",
        "\n"
      ],
      "metadata": {
        "id": "8saNrpHDxxFu"
      }
    },
    {
      "cell_type": "code",
      "source": [
        "data_aug = tf.keras.Sequential([\n",
        "    # Convert data from integers between 0-255 into real numbers between 0-1\n",
        "    tf.keras.layers.experimental.preprocessing.Rescaling(1.0/255.0),\n",
        "    # Up/down/left/right (random flip)\n",
        "    tf.keras.layers.experimental.preprocessing.RandomFlip('horizontal_and_vertical'),\n",
        "    # Rotation (2pi * 20%) (RandomRotation)\n",
        "    tf.keras.layers.experimental.preprocessing.RandomRotation(0.2)\n",
        "])"
      ],
      "metadata": {
        "id": "ykt3Kod-x7nT"
      },
      "execution_count": 74,
      "outputs": []
    },
    {
      "cell_type": "markdown",
      "source": [
        "### Model"
      ],
      "metadata": {
        "id": "EGJtG6sbz13Q"
      }
    },
    {
      "cell_type": "code",
      "source": [
        "model = tf.keras.models.Sequential(([\n",
        "    data_aug,\n",
        "    tf.keras.layers.Conv2D(filters=64, kernel_size=(3, 3), padding='same', activation='relu', input_shape=(28, 28, 1)),\n",
        "    tf.keras.layers.MaxPool2D((2, 2)),\n",
        "    tf.keras.layers.Conv2D(filters=128, kernel_size=(3, 3), padding='same', activation='relu'),\n",
        "    tf.keras.layers.MaxPool2D((2, 2)),\n",
        "    tf.keras.layers.Flatten(),\n",
        "    tf.keras.layers.Dense(10, activation='softmax')\n",
        "]))"
      ],
      "metadata": {
        "id": "Mt3Z6aUVz9da"
      },
      "execution_count": 75,
      "outputs": []
    },
    {
      "cell_type": "markdown",
      "source": [
        "Alternatively, the data may be configured to be processed in the following manner without being included in the model."
      ],
      "metadata": {
        "id": "T4FmeqgO1N0V"
      }
    },
    {
      "cell_type": "code",
      "source": [
        "print(x_train.shape)\n",
        "# Data preprocessing/augmentation for training image\n",
        "x_train = tf.keras.layers.experimental.preprocessing.Rescaling(1./255)(x_train)\n",
        "x_train = tf.keras.layers.experimental.preprocessing.RandomFlip('horizontal_and_vertical')(x_train)\n",
        "x_train = tf.keras.layers.experimental.preprocessing.RandomRotation(0.2)(x_train)\n",
        "\n",
        "# Data preprocessing/augmentation for validation/test image\n",
        "x_valid = tf.keras.layers.experimental.preprocessing.Rescaling(1./255)(x_valid)\n",
        "x_test = tf.keras.layers.experimental.preprocessing.Rescaling(1./255)(x_valid)"
      ],
      "metadata": {
        "colab": {
          "base_uri": "https://localhost:8080/"
        },
        "id": "mfEF33y11GUS",
        "outputId": "16901601-6b5e-4590-9e6e-71b45317b1ae"
      },
      "execution_count": 76,
      "outputs": [
        {
          "output_type": "stream",
          "name": "stdout",
          "text": [
            "(40000, 32, 32, 3)\n"
          ]
        }
      ]
    },
    {
      "cell_type": "markdown",
      "source": [
        "### Image Data Generator"
      ],
      "metadata": {
        "id": "7WgXygm58MI8"
      }
    },
    {
      "cell_type": "code",
      "source": [
        "(x_train, y_train), (x_test, y_test) = cifar10.load_data()"
      ],
      "metadata": {
        "id": "gdVvyiQx4f0K"
      },
      "execution_count": 77,
      "outputs": []
    },
    {
      "cell_type": "code",
      "source": [
        "datagen = tf.keras.preprocessing.image.ImageDataGenerator(\n",
        "    rescale = 1/255.0,\n",
        "    vertical_flip = True,\n",
        "    # Degree\n",
        "    rotation_range = 72\n",
        ")"
      ],
      "metadata": {
        "id": "NJs_gv8v4us5"
      },
      "execution_count": 78,
      "outputs": []
    },
    {
      "cell_type": "code",
      "source": [
        "batch_x, batch_y = next(datagen.flow(x_train, y_train, batch_size=32, shuffle=True))\n",
        "print(batch_x.shape)\n",
        "print(batch_y.shape)"
      ],
      "metadata": {
        "colab": {
          "base_uri": "https://localhost:8080/"
        },
        "id": "O9zuiRJF8dll",
        "outputId": "b1e5dae7-1d97-4970-e93e-58276da56128"
      },
      "execution_count": 79,
      "outputs": [
        {
          "output_type": "stream",
          "name": "stdout",
          "text": [
            "(32, 32, 32, 3)\n",
            "(32, 1)\n"
          ]
        }
      ]
    },
    {
      "cell_type": "code",
      "source": [
        "# Visualize single data\n",
        "def show(image, label):\n",
        "  plt.figure()\n",
        "  plt.imshow(image)\n",
        "  plt.title(label[0])\n",
        "  plt.axis('off')\n",
        "\n",
        "show(batch_x[0], batch_y[0])"
      ],
      "metadata": {
        "colab": {
          "base_uri": "https://localhost:8080/",
          "height": 264
        },
        "id": "lpXGGC4w8w7m",
        "outputId": "acd2d68c-0d21-4094-beef-5537a07cb635"
      },
      "execution_count": 80,
      "outputs": [
        {
          "output_type": "display_data",
          "data": {
            "text/plain": [
              "<Figure size 432x288 with 1 Axes>"
            ],
            "image/png": "[encoded data removed]"
          },
          "metadata": {
            "needs_background": "light"
          }
        }
      ]
    },
    {
      "cell_type": "code",
      "source": [
        "model = tf.keras.models.Sequential([\n",
        "    tf.keras.layers.Conv2D(filters=64, kernel_size=(3, 3), padding='same', activation='relu', input_shape=(32, 32, 3)),\n",
        "    tf.keras.layers.MaxPool2D((2, 2)),\n",
        "    tf.keras.layers.Conv2D(filters=128, kernel_size=(3, 3), padding='same', activation='relu'),\n",
        "    tf.keras.layers.MaxPool2D((2, 2)),\n",
        "    tf.keras.layers.Flatten(),\n",
        "    tf.keras.layers.Dense(10, activation='softmax')\n",
        "])"
      ],
      "metadata": {
        "id": "jgzNNOTE9CWY"
      },
      "execution_count": 81,
      "outputs": []
    },
    {
      "cell_type": "code",
      "source": [
        "loss_fn = tf.keras.losses.SparseCategoricalCrossentropy(from_logits=False)\n",
        "model.compile(loss=loss_fn, optimizer='adam', metrics=['accuracy'])"
      ],
      "metadata": {
        "id": "Ngrjccl59TFc"
      },
      "execution_count": 82,
      "outputs": []
    },
    {
      "cell_type": "markdown",
      "source": [
        "Training"
      ],
      "metadata": {
        "id": "jW8OQTNh9qFY"
      }
    },
    {
      "cell_type": "code",
      "source": [
        "model.fit(datagen.flow(x_train, y_train, batch_size=32),\n",
        "                    steps_per_epoch=len(x_train) / 32, epochs=10)\n"
      ],
      "metadata": {
        "colab": {
          "base_uri": "https://localhost:8080/"
        },
        "id": "vGN9BjUD9rWP",
        "outputId": "dba4ce2c-25ef-4203-e492-10cfe83e5391"
      },
      "execution_count": 83,
      "outputs": [
        {
          "output_type": "stream",
          "name": "stdout",
          "text": [
            "Epoch 1/10\n",
            "1562/1562 [==============================] - 172s 110ms/step - loss: 1.7996 - accuracy: 0.1133\n",
            "Epoch 2/10\n",
            "1562/1562 [==============================] - 170s 109ms/step - loss: 1.5944 - accuracy: 0.1034\n",
            "Epoch 3/10\n",
            "1562/1562 [==============================] - 166s 107ms/step - loss: 1.5113 - accuracy: 0.1031\n",
            "Epoch 4/10\n",
            "1562/1562 [==============================] - 168s 108ms/step - loss: 1.4606 - accuracy: 0.1058\n",
            "Epoch 5/10\n",
            "1562/1562 [==============================] - 165s 106ms/step - loss: 1.4181 - accuracy: 0.1059\n",
            "Epoch 6/10\n",
            "1562/1562 [==============================] - 165s 106ms/step - loss: 1.3908 - accuracy: 0.1053\n",
            "Epoch 7/10\n",
            "1562/1562 [==============================] - 168s 108ms/step - loss: 1.3619 - accuracy: 0.1054\n",
            "Epoch 8/10\n",
            "1562/1562 [==============================] - 163s 104ms/step - loss: 1.3425 - accuracy: 0.1039\n",
            "Epoch 9/10\n",
            "1562/1562 [==============================] - 164s 105ms/step - loss: 1.3184 - accuracy: 0.1039\n",
            "Epoch 10/10\n",
            "1562/1562 [==============================] - 162s 104ms/step - loss: 1.3053 - accuracy: 0.1032\n"
          ]
        },
        {
          "output_type": "execute_result",
          "data": {
            "text/plain": [
              "<keras.callbacks.History at 0x7f3829b76760>"
            ]
          },
          "metadata": {},
          "execution_count": 83
        }
      ]
    }
  ]
}